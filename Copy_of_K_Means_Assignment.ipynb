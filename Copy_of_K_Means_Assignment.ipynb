{
  "nbformat": 4,
  "nbformat_minor": 0,
  "metadata": {
    "colab": {
      "name": "Copy of   K Means Assignment  ",
      "provenance": []
    },
    "kernelspec": {
      "name": "python3",
      "display_name": "Python 3"
    }
  },
  "cells": [
    {
      "cell_type": "code",
      "metadata": {
        "id": "X3P_WyxGyLoY",
        "colab": {
          "base_uri": "https://localhost:8080/"
        },
        "outputId": "9a4af279-baa8-40c8-c29f-0a8f99aee2b2"
      },
      "source": [
        "# Mounting Google Drive\n",
        "from google.colab import drive\n",
        "drive.mount('/content/drive')"
      ],
      "execution_count": 79,
      "outputs": [
        {
          "output_type": "stream",
          "text": [
            "Drive already mounted at /content/drive; to attempt to forcibly remount, call drive.mount(\"/content/drive\", force_remount=True).\n"
          ],
          "name": "stdout"
        }
      ]
    },
    {
      "cell_type": "markdown",
      "metadata": {
        "id": "ztg61cYv5whk"
      },
      "source": [
        ""
      ]
    },
    {
      "cell_type": "markdown",
      "metadata": {
        "id": "HPLPq6Gg50ZK"
      },
      "source": [
        "Introduction:\n",
        "Wholesale Customer dataset refers to clients of a wholesale distributor. It includes the annual spending in monetary units (m.u.) on diverse product categories. Number of Instances: 440 Number of Attributes: 8 Data Set Characteristics: Multivariate Attribute Characteristics: Integer\n",
        "\n",
        "Objective:\n",
        "The major aim is to perform clustering analysis using algorithms like hClust,PAM,kMeans,mclust and provide inferences accordingly.\n",
        "\n",
        "Attribute Information:\n",
        "\n",
        "FRESH: annual spending (m.u.) on fresh products (Continuous)\n",
        "MILK: annual spending (m.u.) on milk products (Continuous)\n",
        "GROCERY: annual spending (m.u.)on grocery products (Continuous)\n",
        "FROZEN: annual spending (m.u.)on frozen products (Continuous)\n",
        "DETERGENTS_PAPER: annual spending (m.u.) on detergents and paper products (Continuous)\n",
        "DELICATESSEN: annual spending (m.u.)on and delicatessen products (Continuous)\n",
        "CHANNEL: customersale Channel - Horeca (Hotel/Restaurant/Cafe) or Retail channel (Nominal)\n",
        "REGION: customersale Region - Lisnon, Oporto or Other (Nominal)"
      ]
    },
    {
      "cell_type": "code",
      "metadata": {
        "id": "7UYmWBgL6BwC"
      },
      "source": [
        "#import libraries\n",
        "import pandas as pd\n",
        "import numpy as np\n",
        "import random as rd\n",
        "import matplotlib.pyplot as plt"
      ],
      "execution_count": 82,
      "outputs": []
    },
    {
      "cell_type": "markdown",
      "metadata": {
        "id": "KFKHvMYK6Rwj"
      },
      "source": [
        "Introduction: Wholesale Customer dataset refers to clients of a wholesale distributor. It includes the annual spending in monetary units (m.u.) on diverse product categories. Number of Instances: 440 Number of Attributes: 8 Data Set Characteristics: Multivariate Attribute Characteristics: Integer\n",
        "\n",
        "Objective: The major aim is to perform clustering analysis using algorithms like hClust,PAM,kMeans,mclust and provide inferences accordingly.\n",
        "\n",
        "Attribute Information:\n",
        "\n",
        "FRESH: annual spending (m.u.) on fresh products (Continuous) MILK: annual spending (m.u.) on milk products (Continuous) GROCERY: annual spending (m.u.)on grocery products (Continuous) FROZEN: annual spending (m.u.)on frozen products (Continuous) DETERGENTS_PAPER: annual spending (m.u.) on detergents and paper products (Continuous) DELICATESSEN: annual spending (m.u.)on and delicatessen products (Continuous) CHANNEL: customersale Channel - Horeca (Hotel/Restaurant/Cafe) or Retail channel (Nominal) REGION: customersale Region - Lisnon, Oporto or Other (Nominal)"
      ]
    },
    {
      "cell_type": "code",
      "metadata": {
        "id": "mYKSvySx6M9y",
        "colab": {
          "resources": {
            "http://localhost:8080/nbextensions/google.colab/files.js": {
              "data": "Ly8gQ29weXJpZ2h0IDIwMTcgR29vZ2xlIExMQwovLwovLyBMaWNlbnNlZCB1bmRlciB0aGUgQXBhY2hlIExpY2Vuc2UsIFZlcnNpb24gMi4wICh0aGUgIkxpY2Vuc2UiKTsKLy8geW91IG1heSBub3QgdXNlIHRoaXMgZmlsZSBleGNlcHQgaW4gY29tcGxpYW5jZSB3aXRoIHRoZSBMaWNlbnNlLgovLyBZb3UgbWF5IG9idGFpbiBhIGNvcHkgb2YgdGhlIExpY2Vuc2UgYXQKLy8KLy8gICAgICBodHRwOi8vd3d3LmFwYWNoZS5vcmcvbGljZW5zZXMvTElDRU5TRS0yLjAKLy8KLy8gVW5sZXNzIHJlcXVpcmVkIGJ5IGFwcGxpY2FibGUgbGF3IG9yIGFncmVlZCB0byBpbiB3cml0aW5nLCBzb2Z0d2FyZQovLyBkaXN0cmlidXRlZCB1bmRlciB0aGUgTGljZW5zZSBpcyBkaXN0cmlidXRlZCBvbiBhbiAiQVMgSVMiIEJBU0lTLAovLyBXSVRIT1VUIFdBUlJBTlRJRVMgT1IgQ09ORElUSU9OUyBPRiBBTlkgS0lORCwgZWl0aGVyIGV4cHJlc3Mgb3IgaW1wbGllZC4KLy8gU2VlIHRoZSBMaWNlbnNlIGZvciB0aGUgc3BlY2lmaWMgbGFuZ3VhZ2UgZ292ZXJuaW5nIHBlcm1pc3Npb25zIGFuZAovLyBsaW1pdGF0aW9ucyB1bmRlciB0aGUgTGljZW5zZS4KCi8qKgogKiBAZmlsZW92ZXJ2aWV3IEhlbHBlcnMgZm9yIGdvb2dsZS5jb2xhYiBQeXRob24gbW9kdWxlLgogKi8KKGZ1bmN0aW9uKHNjb3BlKSB7CmZ1bmN0aW9uIHNwYW4odGV4dCwgc3R5bGVBdHRyaWJ1dGVzID0ge30pIHsKICBjb25zdCBlbGVtZW50ID0gZG9jdW1lbnQuY3JlYXRlRWxlbWVudCgnc3BhbicpOwogIGVsZW1lbnQudGV4dENvbnRlbnQgPSB0ZXh0OwogIGZvciAoY29uc3Qga2V5IG9mIE9iamVjdC5rZXlzKHN0eWxlQXR0cmlidXRlcykpIHsKICAgIGVsZW1lbnQuc3R5bGVba2V5XSA9IHN0eWxlQXR0cmlidXRlc1trZXldOwogIH0KICByZXR1cm4gZWxlbWVudDsKfQoKLy8gTWF4IG51bWJlciBvZiBieXRlcyB3aGljaCB3aWxsIGJlIHVwbG9hZGVkIGF0IGEgdGltZS4KY29uc3QgTUFYX1BBWUxPQURfU0laRSA9IDEwMCAqIDEwMjQ7CgpmdW5jdGlvbiBfdXBsb2FkRmlsZXMoaW5wdXRJZCwgb3V0cHV0SWQpIHsKICBjb25zdCBzdGVwcyA9IHVwbG9hZEZpbGVzU3RlcChpbnB1dElkLCBvdXRwdXRJZCk7CiAgY29uc3Qgb3V0cHV0RWxlbWVudCA9IGRvY3VtZW50LmdldEVsZW1lbnRCeUlkKG91dHB1dElkKTsKICAvLyBDYWNoZSBzdGVwcyBvbiB0aGUgb3V0cHV0RWxlbWVudCB0byBtYWtlIGl0IGF2YWlsYWJsZSBmb3IgdGhlIG5leHQgY2FsbAogIC8vIHRvIHVwbG9hZEZpbGVzQ29udGludWUgZnJvbSBQeXRob24uCiAgb3V0cHV0RWxlbWVudC5zdGVwcyA9IHN0ZXBzOwoKICByZXR1cm4gX3VwbG9hZEZpbGVzQ29udGludWUob3V0cHV0SWQpOwp9CgovLyBUaGlzIGlzIHJvdWdobHkgYW4gYXN5bmMgZ2VuZXJhdG9yIChub3Qgc3VwcG9ydGVkIGluIHRoZSBicm93c2VyIHlldCksCi8vIHdoZXJlIHRoZXJlIGFyZSBtdWx0aXBsZSBhc3luY2hyb25vdXMgc3RlcHMgYW5kIHRoZSBQeXRob24gc2lkZSBpcyBnb2luZwovLyB0byBwb2xsIGZvciBjb21wbGV0aW9uIG9mIGVhY2ggc3RlcC4KLy8gVGhpcyB1c2VzIGEgUHJvbWlzZSB0byBibG9jayB0aGUgcHl0aG9uIHNpZGUgb24gY29tcGxldGlvbiBvZiBlYWNoIHN0ZXAsCi8vIHRoZW4gcGFzc2VzIHRoZSByZXN1bHQgb2YgdGhlIHByZXZpb3VzIHN0ZXAgYXMgdGhlIGlucHV0IHRvIHRoZSBuZXh0IHN0ZXAuCmZ1bmN0aW9uIF91cGxvYWRGaWxlc0NvbnRpbnVlKG91dHB1dElkKSB7CiAgY29uc3Qgb3V0cHV0RWxlbWVudCA9IGRvY3VtZW50LmdldEVsZW1lbnRCeUlkKG91dHB1dElkKTsKICBjb25zdCBzdGVwcyA9IG91dHB1dEVsZW1lbnQuc3RlcHM7CgogIGNvbnN0IG5leHQgPSBzdGVwcy5uZXh0KG91dHB1dEVsZW1lbnQubGFzdFByb21pc2VWYWx1ZSk7CiAgcmV0dXJuIFByb21pc2UucmVzb2x2ZShuZXh0LnZhbHVlLnByb21pc2UpLnRoZW4oKHZhbHVlKSA9PiB7CiAgICAvLyBDYWNoZSB0aGUgbGFzdCBwcm9taXNlIHZhbHVlIHRvIG1ha2UgaXQgYXZhaWxhYmxlIHRvIHRoZSBuZXh0CiAgICAvLyBzdGVwIG9mIHRoZSBnZW5lcmF0b3IuCiAgICBvdXRwdXRFbGVtZW50Lmxhc3RQcm9taXNlVmFsdWUgPSB2YWx1ZTsKICAgIHJldHVybiBuZXh0LnZhbHVlLnJlc3BvbnNlOwogIH0pOwp9CgovKioKICogR2VuZXJhdG9yIGZ1bmN0aW9uIHdoaWNoIGlzIGNhbGxlZCBiZXR3ZWVuIGVhY2ggYXN5bmMgc3RlcCBvZiB0aGUgdXBsb2FkCiAqIHByb2Nlc3MuCiAqIEBwYXJhbSB7c3RyaW5nfSBpbnB1dElkIEVsZW1lbnQgSUQgb2YgdGhlIGlucHV0IGZpbGUgcGlja2VyIGVsZW1lbnQuCiAqIEBwYXJhbSB7c3RyaW5nfSBvdXRwdXRJZCBFbGVtZW50IElEIG9mIHRoZSBvdXRwdXQgZGlzcGxheS4KICogQHJldHVybiB7IUl0ZXJhYmxlPCFPYmplY3Q+fSBJdGVyYWJsZSBvZiBuZXh0IHN0ZXBzLgogKi8KZnVuY3Rpb24qIHVwbG9hZEZpbGVzU3RlcChpbnB1dElkLCBvdXRwdXRJZCkgewogIGNvbnN0IGlucHV0RWxlbWVudCA9IGRvY3VtZW50LmdldEVsZW1lbnRCeUlkKGlucHV0SWQpOwogIGlucHV0RWxlbWVudC5kaXNhYmxlZCA9IGZhbHNlOwoKICBjb25zdCBvdXRwdXRFbGVtZW50ID0gZG9jdW1lbnQuZ2V0RWxlbWVudEJ5SWQob3V0cHV0SWQpOwogIG91dHB1dEVsZW1lbnQuaW5uZXJIVE1MID0gJyc7CgogIGNvbnN0IHBpY2tlZFByb21pc2UgPSBuZXcgUHJvbWlzZSgocmVzb2x2ZSkgPT4gewogICAgaW5wdXRFbGVtZW50LmFkZEV2ZW50TGlzdGVuZXIoJ2NoYW5nZScsIChlKSA9PiB7CiAgICAgIHJlc29sdmUoZS50YXJnZXQuZmlsZXMpOwogICAgfSk7CiAgfSk7CgogIGNvbnN0IGNhbmNlbCA9IGRvY3VtZW50LmNyZWF0ZUVsZW1lbnQoJ2J1dHRvbicpOwogIGlucHV0RWxlbWVudC5wYXJlbnRFbGVtZW50LmFwcGVuZENoaWxkKGNhbmNlbCk7CiAgY2FuY2VsLnRleHRDb250ZW50ID0gJ0NhbmNlbCB1cGxvYWQnOwogIGNvbnN0IGNhbmNlbFByb21pc2UgPSBuZXcgUHJvbWlzZSgocmVzb2x2ZSkgPT4gewogICAgY2FuY2VsLm9uY2xpY2sgPSAoKSA9PiB7CiAgICAgIHJlc29sdmUobnVsbCk7CiAgICB9OwogIH0pOwoKICAvLyBXYWl0IGZvciB0aGUgdXNlciB0byBwaWNrIHRoZSBmaWxlcy4KICBjb25zdCBmaWxlcyA9IHlpZWxkIHsKICAgIHByb21pc2U6IFByb21pc2UucmFjZShbcGlja2VkUHJvbWlzZSwgY2FuY2VsUHJvbWlzZV0pLAogICAgcmVzcG9uc2U6IHsKICAgICAgYWN0aW9uOiAnc3RhcnRpbmcnLAogICAgfQogIH07CgogIGNhbmNlbC5yZW1vdmUoKTsKCiAgLy8gRGlzYWJsZSB0aGUgaW5wdXQgZWxlbWVudCBzaW5jZSBmdXJ0aGVyIHBpY2tzIGFyZSBub3QgYWxsb3dlZC4KICBpbnB1dEVsZW1lbnQuZGlzYWJsZWQgPSB0cnVlOwoKICBpZiAoIWZpbGVzKSB7CiAgICByZXR1cm4gewogICAgICByZXNwb25zZTogewogICAgICAgIGFjdGlvbjogJ2NvbXBsZXRlJywKICAgICAgfQogICAgfTsKICB9CgogIGZvciAoY29uc3QgZmlsZSBvZiBmaWxlcykgewogICAgY29uc3QgbGkgPSBkb2N1bWVudC5jcmVhdGVFbGVtZW50KCdsaScpOwogICAgbGkuYXBwZW5kKHNwYW4oZmlsZS5uYW1lLCB7Zm9udFdlaWdodDogJ2JvbGQnfSkpOwogICAgbGkuYXBwZW5kKHNwYW4oCiAgICAgICAgYCgke2ZpbGUudHlwZSB8fCAnbi9hJ30pIC0gJHtmaWxlLnNpemV9IGJ5dGVzLCBgICsKICAgICAgICBgbGFzdCBtb2RpZmllZDogJHsKICAgICAgICAgICAgZmlsZS5sYXN0TW9kaWZpZWREYXRlID8gZmlsZS5sYXN0TW9kaWZpZWREYXRlLnRvTG9jYWxlRGF0ZVN0cmluZygpIDoKICAgICAgICAgICAgICAgICAgICAgICAgICAgICAgICAgICAgJ24vYSd9IC0gYCkpOwogICAgY29uc3QgcGVyY2VudCA9IHNwYW4oJzAlIGRvbmUnKTsKICAgIGxpLmFwcGVuZENoaWxkKHBlcmNlbnQpOwoKICAgIG91dHB1dEVsZW1lbnQuYXBwZW5kQ2hpbGQobGkpOwoKICAgIGNvbnN0IGZpbGVEYXRhUHJvbWlzZSA9IG5ldyBQcm9taXNlKChyZXNvbHZlKSA9PiB7CiAgICAgIGNvbnN0IHJlYWRlciA9IG5ldyBGaWxlUmVhZGVyKCk7CiAgICAgIHJlYWRlci5vbmxvYWQgPSAoZSkgPT4gewogICAgICAgIHJlc29sdmUoZS50YXJnZXQucmVzdWx0KTsKICAgICAgfTsKICAgICAgcmVhZGVyLnJlYWRBc0FycmF5QnVmZmVyKGZpbGUpOwogICAgfSk7CiAgICAvLyBXYWl0IGZvciB0aGUgZGF0YSB0byBiZSByZWFkeS4KICAgIGxldCBmaWxlRGF0YSA9IHlpZWxkIHsKICAgICAgcHJvbWlzZTogZmlsZURhdGFQcm9taXNlLAogICAgICByZXNwb25zZTogewogICAgICAgIGFjdGlvbjogJ2NvbnRpbnVlJywKICAgICAgfQogICAgfTsKCiAgICAvLyBVc2UgYSBjaHVua2VkIHNlbmRpbmcgdG8gYXZvaWQgbWVzc2FnZSBzaXplIGxpbWl0cy4gU2VlIGIvNjIxMTU2NjAuCiAgICBsZXQgcG9zaXRpb24gPSAwOwogICAgd2hpbGUgKHBvc2l0aW9uIDwgZmlsZURhdGEuYnl0ZUxlbmd0aCkgewogICAgICBjb25zdCBsZW5ndGggPSBNYXRoLm1pbihmaWxlRGF0YS5ieXRlTGVuZ3RoIC0gcG9zaXRpb24sIE1BWF9QQVlMT0FEX1NJWkUpOwogICAgICBjb25zdCBjaHVuayA9IG5ldyBVaW50OEFycmF5KGZpbGVEYXRhLCBwb3NpdGlvbiwgbGVuZ3RoKTsKICAgICAgcG9zaXRpb24gKz0gbGVuZ3RoOwoKICAgICAgY29uc3QgYmFzZTY0ID0gYnRvYShTdHJpbmcuZnJvbUNoYXJDb2RlLmFwcGx5KG51bGwsIGNodW5rKSk7CiAgICAgIHlpZWxkIHsKICAgICAgICByZXNwb25zZTogewogICAgICAgICAgYWN0aW9uOiAnYXBwZW5kJywKICAgICAgICAgIGZpbGU6IGZpbGUubmFtZSwKICAgICAgICAgIGRhdGE6IGJhc2U2NCwKICAgICAgICB9LAogICAgICB9OwogICAgICBwZXJjZW50LnRleHRDb250ZW50ID0KICAgICAgICAgIGAke01hdGgucm91bmQoKHBvc2l0aW9uIC8gZmlsZURhdGEuYnl0ZUxlbmd0aCkgKiAxMDApfSUgZG9uZWA7CiAgICB9CiAgfQoKICAvLyBBbGwgZG9uZS4KICB5aWVsZCB7CiAgICByZXNwb25zZTogewogICAgICBhY3Rpb246ICdjb21wbGV0ZScsCiAgICB9CiAgfTsKfQoKc2NvcGUuZ29vZ2xlID0gc2NvcGUuZ29vZ2xlIHx8IHt9OwpzY29wZS5nb29nbGUuY29sYWIgPSBzY29wZS5nb29nbGUuY29sYWIgfHwge307CnNjb3BlLmdvb2dsZS5jb2xhYi5fZmlsZXMgPSB7CiAgX3VwbG9hZEZpbGVzLAogIF91cGxvYWRGaWxlc0NvbnRpbnVlLAp9Owp9KShzZWxmKTsK",
              "ok": true,
              "headers": [
                [
                  "content-type",
                  "application/javascript"
                ]
              ],
              "status": 200,
              "status_text": ""
            }
          },
          "base_uri": "https://localhost:8080/",
          "height": 73
        },
        "outputId": "b8b48066-98bb-4919-a445-aba2e836112c"
      },
      "source": [
        "from google.colab import files\n",
        "uploaded = files.upload()"
      ],
      "execution_count": 81,
      "outputs": [
        {
          "output_type": "display_data",
          "data": {
            "text/html": [
              "\n",
              "     <input type=\"file\" id=\"files-0647fb55-24a9-4274-8bfb-d73cbb6b84f6\" name=\"files[]\" multiple disabled\n",
              "        style=\"border:none\" />\n",
              "     <output id=\"result-0647fb55-24a9-4274-8bfb-d73cbb6b84f6\">\n",
              "      Upload widget is only available when the cell has been executed in the\n",
              "      current browser session. Please rerun this cell to enable.\n",
              "      </output>\n",
              "      <script src=\"/nbextensions/google.colab/files.js\"></script> "
            ],
            "text/plain": [
              "<IPython.core.display.HTML object>"
            ]
          },
          "metadata": {
            "tags": []
          }
        },
        {
          "output_type": "stream",
          "text": [
            "Saving Wholesale customers data.csv to Wholesale customers data (3).csv\n"
          ],
          "name": "stdout"
        }
      ]
    },
    {
      "cell_type": "code",
      "metadata": {
        "id": "LFnXePSZzHNH",
        "colab": {
          "base_uri": "https://localhost:8080/",
          "height": 195
        },
        "outputId": "37e91d98-7926-4fa0-93d2-7d3c858d6c5f"
      },
      "source": [
        "#  read the CSV file and look at the first five rows of the data:\n",
        "dataset = pd.read_csv('Wholesale customers data.csv')\n",
        "dataset.head()"
      ],
      "execution_count": 83,
      "outputs": [
        {
          "output_type": "execute_result",
          "data": {
            "text/html": [
              "<div>\n",
              "<style scoped>\n",
              "    .dataframe tbody tr th:only-of-type {\n",
              "        vertical-align: middle;\n",
              "    }\n",
              "\n",
              "    .dataframe tbody tr th {\n",
              "        vertical-align: top;\n",
              "    }\n",
              "\n",
              "    .dataframe thead th {\n",
              "        text-align: right;\n",
              "    }\n",
              "</style>\n",
              "<table border=\"1\" class=\"dataframe\">\n",
              "  <thead>\n",
              "    <tr style=\"text-align: right;\">\n",
              "      <th></th>\n",
              "      <th>Channel</th>\n",
              "      <th>Region</th>\n",
              "      <th>Fresh</th>\n",
              "      <th>Milk</th>\n",
              "      <th>Grocery</th>\n",
              "      <th>Frozen</th>\n",
              "      <th>Detergents_Paper</th>\n",
              "      <th>Delicassen</th>\n",
              "    </tr>\n",
              "  </thead>\n",
              "  <tbody>\n",
              "    <tr>\n",
              "      <th>0</th>\n",
              "      <td>2</td>\n",
              "      <td>3</td>\n",
              "      <td>12669</td>\n",
              "      <td>9656</td>\n",
              "      <td>7561</td>\n",
              "      <td>214</td>\n",
              "      <td>2674</td>\n",
              "      <td>1338</td>\n",
              "    </tr>\n",
              "    <tr>\n",
              "      <th>1</th>\n",
              "      <td>2</td>\n",
              "      <td>3</td>\n",
              "      <td>7057</td>\n",
              "      <td>9810</td>\n",
              "      <td>9568</td>\n",
              "      <td>1762</td>\n",
              "      <td>3293</td>\n",
              "      <td>1776</td>\n",
              "    </tr>\n",
              "    <tr>\n",
              "      <th>2</th>\n",
              "      <td>2</td>\n",
              "      <td>3</td>\n",
              "      <td>6353</td>\n",
              "      <td>8808</td>\n",
              "      <td>7684</td>\n",
              "      <td>2405</td>\n",
              "      <td>3516</td>\n",
              "      <td>7844</td>\n",
              "    </tr>\n",
              "    <tr>\n",
              "      <th>3</th>\n",
              "      <td>1</td>\n",
              "      <td>3</td>\n",
              "      <td>13265</td>\n",
              "      <td>1196</td>\n",
              "      <td>4221</td>\n",
              "      <td>6404</td>\n",
              "      <td>507</td>\n",
              "      <td>1788</td>\n",
              "    </tr>\n",
              "    <tr>\n",
              "      <th>4</th>\n",
              "      <td>2</td>\n",
              "      <td>3</td>\n",
              "      <td>22615</td>\n",
              "      <td>5410</td>\n",
              "      <td>7198</td>\n",
              "      <td>3915</td>\n",
              "      <td>1777</td>\n",
              "      <td>5185</td>\n",
              "    </tr>\n",
              "  </tbody>\n",
              "</table>\n",
              "</div>"
            ],
            "text/plain": [
              "   Channel  Region  Fresh  Milk  Grocery  Frozen  Detergents_Paper  Delicassen\n",
              "0        2       3  12669  9656     7561     214              2674        1338\n",
              "1        2       3   7057  9810     9568    1762              3293        1776\n",
              "2        2       3   6353  8808     7684    2405              3516        7844\n",
              "3        1       3  13265  1196     4221    6404               507        1788\n",
              "4        2       3  22615  5410     7198    3915              1777        5185"
            ]
          },
          "metadata": {
            "tags": []
          },
          "execution_count": 83
        }
      ]
    },
    {
      "cell_type": "code",
      "metadata": {
        "id": "2-0WvGR2zfxK",
        "colab": {
          "base_uri": "https://localhost:8080/"
        },
        "outputId": "c93d76ec-3ff6-4c48-8d86-50b9b14a7687"
      },
      "source": [
        "print(dataset)"
      ],
      "execution_count": 85,
      "outputs": [
        {
          "output_type": "stream",
          "text": [
            "     Channel  Region  Fresh  ...  Frozen  Detergents_Paper  Delicassen\n",
            "0          2       3  12669  ...     214              2674        1338\n",
            "1          2       3   7057  ...    1762              3293        1776\n",
            "2          2       3   6353  ...    2405              3516        7844\n",
            "3          1       3  13265  ...    6404               507        1788\n",
            "4          2       3  22615  ...    3915              1777        5185\n",
            "..       ...     ...    ...  ...     ...               ...         ...\n",
            "435        1       3  29703  ...   13135               182        2204\n",
            "436        1       3  39228  ...    4510                93        2346\n",
            "437        2       3  14531  ...     437             14841        1867\n",
            "438        1       3  10290  ...    1038               168        2125\n",
            "439        1       3   2787  ...      65               477          52\n",
            "\n",
            "[440 rows x 8 columns]\n"
          ],
          "name": "stdout"
        }
      ]
    },
    {
      "cell_type": "code",
      "metadata": {
        "id": "TVV_6a-TNo5w",
        "colab": {
          "base_uri": "https://localhost:8080/"
        },
        "outputId": "0aa6b1ca-ae74-4b9e-aaa6-edb01bb626bb"
      },
      "source": [
        "#Print Total number of Rows & columns in dataset\n",
        "print(dataset.shape)"
      ],
      "execution_count": 86,
      "outputs": [
        {
          "output_type": "stream",
          "text": [
            "(440, 8)\n"
          ],
          "name": "stdout"
        }
      ]
    },
    {
      "cell_type": "code",
      "metadata": {
        "id": "IEi2neEQNx_M",
        "colab": {
          "base_uri": "https://localhost:8080/"
        },
        "outputId": "e4e28c7f-62d4-4cbd-9467-1e6b01689bf0"
      },
      "source": [
        "#Print Information about data\n",
        "dataset.info()"
      ],
      "execution_count": 87,
      "outputs": [
        {
          "output_type": "stream",
          "text": [
            "<class 'pandas.core.frame.DataFrame'>\n",
            "RangeIndex: 440 entries, 0 to 439\n",
            "Data columns (total 8 columns):\n",
            " #   Column            Non-Null Count  Dtype\n",
            "---  ------            --------------  -----\n",
            " 0   Channel           440 non-null    int64\n",
            " 1   Region            440 non-null    int64\n",
            " 2   Fresh             440 non-null    int64\n",
            " 3   Milk              440 non-null    int64\n",
            " 4   Grocery           440 non-null    int64\n",
            " 5   Frozen            440 non-null    int64\n",
            " 6   Detergents_Paper  440 non-null    int64\n",
            " 7   Delicassen        440 non-null    int64\n",
            "dtypes: int64(8)\n",
            "memory usage: 27.6 KB\n"
          ],
          "name": "stdout"
        }
      ]
    },
    {
      "cell_type": "code",
      "metadata": {
        "colab": {
          "base_uri": "https://localhost:8080/",
          "height": 284
        },
        "id": "qCt7G0xLSM08",
        "outputId": "889501ab-4bca-44ad-9e11-fd83b9323025"
      },
      "source": [
        "dataset.describe()"
      ],
      "execution_count": 88,
      "outputs": [
        {
          "output_type": "execute_result",
          "data": {
            "text/html": [
              "<div>\n",
              "<style scoped>\n",
              "    .dataframe tbody tr th:only-of-type {\n",
              "        vertical-align: middle;\n",
              "    }\n",
              "\n",
              "    .dataframe tbody tr th {\n",
              "        vertical-align: top;\n",
              "    }\n",
              "\n",
              "    .dataframe thead th {\n",
              "        text-align: right;\n",
              "    }\n",
              "</style>\n",
              "<table border=\"1\" class=\"dataframe\">\n",
              "  <thead>\n",
              "    <tr style=\"text-align: right;\">\n",
              "      <th></th>\n",
              "      <th>Channel</th>\n",
              "      <th>Region</th>\n",
              "      <th>Fresh</th>\n",
              "      <th>Milk</th>\n",
              "      <th>Grocery</th>\n",
              "      <th>Frozen</th>\n",
              "      <th>Detergents_Paper</th>\n",
              "      <th>Delicassen</th>\n",
              "    </tr>\n",
              "  </thead>\n",
              "  <tbody>\n",
              "    <tr>\n",
              "      <th>count</th>\n",
              "      <td>440.000000</td>\n",
              "      <td>440.000000</td>\n",
              "      <td>440.000000</td>\n",
              "      <td>440.000000</td>\n",
              "      <td>440.000000</td>\n",
              "      <td>440.000000</td>\n",
              "      <td>440.000000</td>\n",
              "      <td>440.000000</td>\n",
              "    </tr>\n",
              "    <tr>\n",
              "      <th>mean</th>\n",
              "      <td>1.322727</td>\n",
              "      <td>2.543182</td>\n",
              "      <td>12000.297727</td>\n",
              "      <td>5796.265909</td>\n",
              "      <td>7951.277273</td>\n",
              "      <td>3071.931818</td>\n",
              "      <td>2881.493182</td>\n",
              "      <td>1524.870455</td>\n",
              "    </tr>\n",
              "    <tr>\n",
              "      <th>std</th>\n",
              "      <td>0.468052</td>\n",
              "      <td>0.774272</td>\n",
              "      <td>12647.328865</td>\n",
              "      <td>7380.377175</td>\n",
              "      <td>9503.162829</td>\n",
              "      <td>4854.673333</td>\n",
              "      <td>4767.854448</td>\n",
              "      <td>2820.105937</td>\n",
              "    </tr>\n",
              "    <tr>\n",
              "      <th>min</th>\n",
              "      <td>1.000000</td>\n",
              "      <td>1.000000</td>\n",
              "      <td>3.000000</td>\n",
              "      <td>55.000000</td>\n",
              "      <td>3.000000</td>\n",
              "      <td>25.000000</td>\n",
              "      <td>3.000000</td>\n",
              "      <td>3.000000</td>\n",
              "    </tr>\n",
              "    <tr>\n",
              "      <th>25%</th>\n",
              "      <td>1.000000</td>\n",
              "      <td>2.000000</td>\n",
              "      <td>3127.750000</td>\n",
              "      <td>1533.000000</td>\n",
              "      <td>2153.000000</td>\n",
              "      <td>742.250000</td>\n",
              "      <td>256.750000</td>\n",
              "      <td>408.250000</td>\n",
              "    </tr>\n",
              "    <tr>\n",
              "      <th>50%</th>\n",
              "      <td>1.000000</td>\n",
              "      <td>3.000000</td>\n",
              "      <td>8504.000000</td>\n",
              "      <td>3627.000000</td>\n",
              "      <td>4755.500000</td>\n",
              "      <td>1526.000000</td>\n",
              "      <td>816.500000</td>\n",
              "      <td>965.500000</td>\n",
              "    </tr>\n",
              "    <tr>\n",
              "      <th>75%</th>\n",
              "      <td>2.000000</td>\n",
              "      <td>3.000000</td>\n",
              "      <td>16933.750000</td>\n",
              "      <td>7190.250000</td>\n",
              "      <td>10655.750000</td>\n",
              "      <td>3554.250000</td>\n",
              "      <td>3922.000000</td>\n",
              "      <td>1820.250000</td>\n",
              "    </tr>\n",
              "    <tr>\n",
              "      <th>max</th>\n",
              "      <td>2.000000</td>\n",
              "      <td>3.000000</td>\n",
              "      <td>112151.000000</td>\n",
              "      <td>73498.000000</td>\n",
              "      <td>92780.000000</td>\n",
              "      <td>60869.000000</td>\n",
              "      <td>40827.000000</td>\n",
              "      <td>47943.000000</td>\n",
              "    </tr>\n",
              "  </tbody>\n",
              "</table>\n",
              "</div>"
            ],
            "text/plain": [
              "          Channel      Region  ...  Detergents_Paper    Delicassen\n",
              "count  440.000000  440.000000  ...        440.000000    440.000000\n",
              "mean     1.322727    2.543182  ...       2881.493182   1524.870455\n",
              "std      0.468052    0.774272  ...       4767.854448   2820.105937\n",
              "min      1.000000    1.000000  ...          3.000000      3.000000\n",
              "25%      1.000000    2.000000  ...        256.750000    408.250000\n",
              "50%      1.000000    3.000000  ...        816.500000    965.500000\n",
              "75%      2.000000    3.000000  ...       3922.000000   1820.250000\n",
              "max      2.000000    3.000000  ...      40827.000000  47943.000000\n",
              "\n",
              "[8 rows x 8 columns]"
            ]
          },
          "metadata": {
            "tags": []
          },
          "execution_count": 88
        }
      ]
    },
    {
      "cell_type": "code",
      "metadata": {
        "id": "cS95b7e6N32A",
        "colab": {
          "base_uri": "https://localhost:8080/"
        },
        "outputId": "b9f569d7-32e6-4c8a-f928-9bdab6e6172a"
      },
      "source": [
        "types = dataset.dtypes\n",
        "print(types)"
      ],
      "execution_count": 93,
      "outputs": [
        {
          "output_type": "stream",
          "text": [
            "Channel             int64\n",
            "Region              int64\n",
            "Fresh               int64\n",
            "Milk                int64\n",
            "Grocery             int64\n",
            "Frozen              int64\n",
            "Detergents_Paper    int64\n",
            "Delicassen          int64\n",
            "dtype: object\n"
          ],
          "name": "stdout"
        }
      ]
    },
    {
      "cell_type": "code",
      "metadata": {
        "id": "ZmnTh3sWOKYh",
        "colab": {
          "base_uri": "https://localhost:8080/"
        },
        "outputId": "7974cece-c2fc-48db-91fc-986616b534a4"
      },
      "source": [
        "#Count total number of classes in Data\n",
        "class_counts = dataset.groupby('Channel').size()\n",
        "print(class_counts)"
      ],
      "execution_count": 92,
      "outputs": [
        {
          "output_type": "stream",
          "text": [
            "Channel\n",
            "1    298\n",
            "2    142\n",
            "dtype: int64\n"
          ],
          "name": "stdout"
        }
      ]
    },
    {
      "cell_type": "code",
      "metadata": {
        "id": "-bqFEtPJ63ej",
        "colab": {
          "base_uri": "https://localhost:8080/"
        },
        "outputId": "9f43dec7-f526-4cbc-dcae-38579b449c91"
      },
      "source": [
        "#Count total number of classes in Data\n",
        "class_counts = dataset.groupby('Region').size()\n",
        "print(class_counts)"
      ],
      "execution_count": 94,
      "outputs": [
        {
          "output_type": "stream",
          "text": [
            "Region\n",
            "1     77\n",
            "2     47\n",
            "3    316\n",
            "dtype: int64\n"
          ],
          "name": "stdout"
        }
      ]
    },
    {
      "cell_type": "code",
      "metadata": {
        "id": "CemFo1AXOUTF",
        "colab": {
          "base_uri": "https://localhost:8080/",
          "height": 281
        },
        "outputId": "32a5dfb8-52d7-43f5-d59f-e6b2c8c95c83"
      },
      "source": [
        "from matplotlib import pyplot\n",
        "dataset.hist()\n",
        "pyplot.show()"
      ],
      "execution_count": 95,
      "outputs": [
        {
          "output_type": "display_data",
          "data": {
            "image/png": "[encoded data removed]",
            "text/plain": [
              "<Figure size 432x288 with 9 Axes>"
            ]
          },
          "metadata": {
            "tags": [],
            "needs_background": "light"
          }
        }
      ]
    },
    {
      "cell_type": "code",
      "metadata": {
        "id": "yudic4VjOhI7",
        "colab": {
          "base_uri": "https://localhost:8080/",
          "height": 276
        },
        "outputId": "faa845fa-cdc0-47d2-d950-377bd679ec0f"
      },
      "source": [
        "dataset.plot(kind='density' ,subplots=True, layout=(3,3), sharex=False)\n",
        "pyplot.show()"
      ],
      "execution_count": 96,
      "outputs": [
        {
          "output_type": "display_data",
          "data": {
            "image/png": "[encoded data removed]",
            "text/plain": [
              "<Figure size 432x288 with 9 Axes>"
            ]
          },
          "metadata": {
            "tags": [],
            "needs_background": "light"
          }
        }
      ]
    },
    {
      "cell_type": "code",
      "metadata": {
        "id": "aQh-4UWL7FIk",
        "colab": {
          "base_uri": "https://localhost:8080/"
        },
        "outputId": "04db6b50-8fd6-49f6-cd45-33ff1ba8fb6a"
      },
      "source": [
        "dataset.isnull().sum()"
      ],
      "execution_count": 97,
      "outputs": [
        {
          "output_type": "execute_result",
          "data": {
            "text/plain": [
              "Channel             0\n",
              "Region              0\n",
              "Fresh               0\n",
              "Milk                0\n",
              "Grocery             0\n",
              "Frozen              0\n",
              "Detergents_Paper    0\n",
              "Delicassen          0\n",
              "dtype: int64"
            ]
          },
          "metadata": {
            "tags": []
          },
          "execution_count": 97
        }
      ]
    },
    {
      "cell_type": "code",
      "metadata": {
        "id": "KtqbrjPizzuA"
      },
      "source": [
        "# Extracting features of dataset\n",
        "\n",
        "X = dataset.iloc[:,2:8].values"
      ],
      "execution_count": 98,
      "outputs": []
    },
    {
      "cell_type": "code",
      "metadata": {
        "id": "xbomzWyb8ZEk"
      },
      "source": [
        "# Taking care of missing data\n",
        "#handling missing data (Replacing missing data with the mean value)  \n",
        "from sklearn.impute import SimpleImputer\n",
        "imputer = SimpleImputer(missing_values= np.NAN, strategy= 'mean', fill_value=None, verbose=1, copy=True)\n",
        "#Fitting imputer object to the independent variables x.   \n",
        "imputer = imputer.fit(X[:, 2:8])\n",
        "#Replacing missing data with the calculated mean value  \n",
        "X[:, 2:8]= imputer.transform(X[:, 2:8])"
      ],
      "execution_count": 99,
      "outputs": []
    },
    {
      "cell_type": "code",
      "metadata": {
        "id": "agQ1Xjpo0avV",
        "colab": {
          "base_uri": "https://localhost:8080/"
        },
        "outputId": "346a8edf-f421-401d-9187-bc3c28401972"
      },
      "source": [
        "print(X)\n"
      ],
      "execution_count": 100,
      "outputs": [
        {
          "output_type": "stream",
          "text": [
            "[[12669  9656  7561   214  2674  1338]\n",
            " [ 7057  9810  9568  1762  3293  1776]\n",
            " [ 6353  8808  7684  2405  3516  7844]\n",
            " ...\n",
            " [14531 15488 30243   437 14841  1867]\n",
            " [10290  1981  2232  1038   168  2125]\n",
            " [ 2787  1698  2510    65   477    52]]\n"
          ],
          "name": "stdout"
        }
      ]
    },
    {
      "cell_type": "code",
      "metadata": {
        "id": "wY0ouNVp8kMX",
        "colab": {
          "base_uri": "https://localhost:8080/",
          "height": 284
        },
        "outputId": "dc8fd088-1485-48f7-d686-ff952601019b"
      },
      "source": [
        "# standardizing the data\n",
        "from sklearn.preprocessing import StandardScaler\n",
        "sc = StandardScaler()\n",
        "X = sc.fit_transform(X)\n",
        "\n",
        "# statistics of scaled data\n",
        "pd.DataFrame(X).describe()"
      ],
      "execution_count": 101,
      "outputs": [
        {
          "output_type": "execute_result",
          "data": {
            "text/html": [
              "<div>\n",
              "<style scoped>\n",
              "    .dataframe tbody tr th:only-of-type {\n",
              "        vertical-align: middle;\n",
              "    }\n",
              "\n",
              "    .dataframe tbody tr th {\n",
              "        vertical-align: top;\n",
              "    }\n",
              "\n",
              "    .dataframe thead th {\n",
              "        text-align: right;\n",
              "    }\n",
              "</style>\n",
              "<table border=\"1\" class=\"dataframe\">\n",
              "  <thead>\n",
              "    <tr style=\"text-align: right;\">\n",
              "      <th></th>\n",
              "      <th>0</th>\n",
              "      <th>1</th>\n",
              "      <th>2</th>\n",
              "      <th>3</th>\n",
              "      <th>4</th>\n",
              "      <th>5</th>\n",
              "    </tr>\n",
              "  </thead>\n",
              "  <tbody>\n",
              "    <tr>\n",
              "      <th>count</th>\n",
              "      <td>4.400000e+02</td>\n",
              "      <td>4.400000e+02</td>\n",
              "      <td>4.400000e+02</td>\n",
              "      <td>4.400000e+02</td>\n",
              "      <td>4.400000e+02</td>\n",
              "      <td>4.400000e+02</td>\n",
              "    </tr>\n",
              "    <tr>\n",
              "      <th>mean</th>\n",
              "      <td>-2.422305e-17</td>\n",
              "      <td>-1.589638e-17</td>\n",
              "      <td>-6.030530e-17</td>\n",
              "      <td>1.135455e-17</td>\n",
              "      <td>-1.917658e-17</td>\n",
              "      <td>-8.276208e-17</td>\n",
              "    </tr>\n",
              "    <tr>\n",
              "      <th>std</th>\n",
              "      <td>1.001138e+00</td>\n",
              "      <td>1.001138e+00</td>\n",
              "      <td>1.001138e+00</td>\n",
              "      <td>1.001138e+00</td>\n",
              "      <td>1.001138e+00</td>\n",
              "      <td>1.001138e+00</td>\n",
              "    </tr>\n",
              "    <tr>\n",
              "      <th>min</th>\n",
              "      <td>-9.496831e-01</td>\n",
              "      <td>-7.787951e-01</td>\n",
              "      <td>-8.373344e-01</td>\n",
              "      <td>-6.283430e-01</td>\n",
              "      <td>-6.044165e-01</td>\n",
              "      <td>-5.402644e-01</td>\n",
              "    </tr>\n",
              "    <tr>\n",
              "      <th>25%</th>\n",
              "      <td>-7.023339e-01</td>\n",
              "      <td>-5.783063e-01</td>\n",
              "      <td>-6.108364e-01</td>\n",
              "      <td>-4.804306e-01</td>\n",
              "      <td>-5.511349e-01</td>\n",
              "      <td>-3.964005e-01</td>\n",
              "    </tr>\n",
              "    <tr>\n",
              "      <th>50%</th>\n",
              "      <td>-2.767602e-01</td>\n",
              "      <td>-2.942580e-01</td>\n",
              "      <td>-3.366684e-01</td>\n",
              "      <td>-3.188045e-01</td>\n",
              "      <td>-4.336004e-01</td>\n",
              "      <td>-1.985766e-01</td>\n",
              "    </tr>\n",
              "    <tr>\n",
              "      <th>75%</th>\n",
              "      <td>3.905226e-01</td>\n",
              "      <td>1.890921e-01</td>\n",
              "      <td>2.849105e-01</td>\n",
              "      <td>9.946441e-02</td>\n",
              "      <td>2.184822e-01</td>\n",
              "      <td>1.048598e-01</td>\n",
              "    </tr>\n",
              "    <tr>\n",
              "      <th>max</th>\n",
              "      <td>7.927738e+00</td>\n",
              "      <td>9.183650e+00</td>\n",
              "      <td>8.936528e+00</td>\n",
              "      <td>1.191900e+01</td>\n",
              "      <td>7.967672e+00</td>\n",
              "      <td>1.647845e+01</td>\n",
              "    </tr>\n",
              "  </tbody>\n",
              "</table>\n",
              "</div>"
            ],
            "text/plain": [
              "                  0             1  ...             4             5\n",
              "count  4.400000e+02  4.400000e+02  ...  4.400000e+02  4.400000e+02\n",
              "mean  -2.422305e-17 -1.589638e-17  ... -1.917658e-17 -8.276208e-17\n",
              "std    1.001138e+00  1.001138e+00  ...  1.001138e+00  1.001138e+00\n",
              "min   -9.496831e-01 -7.787951e-01  ... -6.044165e-01 -5.402644e-01\n",
              "25%   -7.023339e-01 -5.783063e-01  ... -5.511349e-01 -3.964005e-01\n",
              "50%   -2.767602e-01 -2.942580e-01  ... -4.336004e-01 -1.985766e-01\n",
              "75%    3.905226e-01  1.890921e-01  ...  2.184822e-01  1.048598e-01\n",
              "max    7.927738e+00  9.183650e+00  ...  7.967672e+00  1.647845e+01\n",
              "\n",
              "[8 rows x 6 columns]"
            ]
          },
          "metadata": {
            "tags": []
          },
          "execution_count": 101
        }
      ]
    },
    {
      "cell_type": "code",
      "metadata": {
        "id": "QnJHjmaQh_Ot",
        "colab": {
          "base_uri": "https://localhost:8080/"
        },
        "outputId": "ec952f1d-68ff-4b2e-c823-e22c7074cc23"
      },
      "source": [
        "dataset.isnull().sum()"
      ],
      "execution_count": 102,
      "outputs": [
        {
          "output_type": "execute_result",
          "data": {
            "text/plain": [
              "Channel             0\n",
              "Region              0\n",
              "Fresh               0\n",
              "Milk                0\n",
              "Grocery             0\n",
              "Frozen              0\n",
              "Detergents_Paper    0\n",
              "Delicassen          0\n",
              "dtype: int64"
            ]
          },
          "metadata": {
            "tags": []
          },
          "execution_count": 102
        }
      ]
    },
    {
      "cell_type": "code",
      "metadata": {
        "colab": {
          "base_uri": "https://localhost:8080/"
        },
        "id": "badpyu-BIi4O",
        "outputId": "1e793323-e5f1-4018-d4c5-ae11ad2b3b20"
      },
      "source": [
        "!pip install -U scikit-learn"
      ],
      "execution_count": 90,
      "outputs": [
        {
          "output_type": "stream",
          "text": [
            "Requirement already up-to-date: scikit-learn in /usr/local/lib/python3.7/dist-packages (0.24.2)\n",
            "Requirement already satisfied, skipping upgrade: numpy>=1.13.3 in /usr/local/lib/python3.7/dist-packages (from scikit-learn) (1.19.5)\n",
            "Requirement already satisfied, skipping upgrade: threadpoolctl>=2.0.0 in /usr/local/lib/python3.7/dist-packages (from scikit-learn) (2.1.0)\n",
            "Requirement already satisfied, skipping upgrade: joblib>=0.11 in /usr/local/lib/python3.7/dist-packages (from scikit-learn) (1.0.1)\n",
            "Requirement already satisfied, skipping upgrade: scipy>=0.19.1 in /usr/local/lib/python3.7/dist-packages (from scikit-learn) (1.4.1)\n"
          ],
          "name": "stdout"
        }
      ]
    },
    {
      "cell_type": "code",
      "metadata": {
        "colab": {
          "base_uri": "https://localhost:8080/",
          "height": 35
        },
        "id": "_gS_VOlHIb1C",
        "outputId": "6e959d89-0d7e-474d-ed31-a29f92121f1d"
      },
      "source": [
        "import sklearn\n",
        "\n",
        "sklearn.__version__\n"
      ],
      "execution_count": 91,
      "outputs": [
        {
          "output_type": "execute_result",
          "data": {
            "application/vnd.google.colaboratory.intrinsic+json": {
              "type": "string"
            },
            "text/plain": [
              "'0.24.2'"
            ]
          },
          "metadata": {
            "tags": []
          },
          "execution_count": 91
        }
      ]
    },
    {
      "cell_type": "code",
      "metadata": {
        "id": "9w30eCaph7gn"
      },
      "source": [
        "# Using the elbow method to find the optimal number of clusters\n",
        "from sklearn.cluster import KMeans\n",
        "wcss = []\n",
        "for i in range(1, 20):\n",
        "    kmeans = KMeans(n_clusters = i, init = 'k-means++', random_state = 42)\n",
        "    kmeans.fit(X)\n",
        "    wcss.append(kmeans.inertia_)"
      ],
      "execution_count": 103,
      "outputs": []
    },
    {
      "cell_type": "code",
      "metadata": {
        "id": "rguJ7ORO1VcX",
        "colab": {
          "base_uri": "https://localhost:8080/",
          "height": 295
        },
        "outputId": "ef6af10c-f337-42b3-d214-414554668f4c"
      },
      "source": [
        "plt.plot(range(1, 20), wcss)\n",
        "plt.title('The Elbow Method')\n",
        "plt.xlabel('Number of clusters')\n",
        "plt.ylabel('WCSS')\n",
        "plt.show()\n"
      ],
      "execution_count": 104,
      "outputs": [
        {
          "output_type": "display_data",
          "data": {
            "image/png": "[encoded data removed]",
            "text/plain": [
              "<Figure size 432x288 with 1 Axes>"
            ]
          },
          "metadata": {
            "tags": [],
            "needs_background": "light"
          }
        }
      ]
    },
    {
      "cell_type": "markdown",
      "metadata": {
        "id": "EFIk0enODq_F"
      },
      "source": [
        "1.Specify number of clusters K.\n",
        "2. Initialize centroids by first shuffling the dataset and then randomly selecting K data points for the centroids without replacement.\n",
        "3. Keep iterating until there is no change to the centroids. i.e assignment of data points to clusters isn’t changing."
      ]
    },
    {
      "cell_type": "code",
      "metadata": {
        "id": "F-X2cb2k4tiB",
        "colab": {
          "base_uri": "https://localhost:8080/"
        },
        "outputId": "9bbbdd8e-141d-4e93-82ca-9bf40337dff9"
      },
      "source": [
        "# Fitting K-Means to the dataset\n",
        "from sklearn.cluster import KMeans\n",
        "kmeans = KMeans(n_clusters = 5, init = 'k-means++', random_state = 42)\n",
        "print(kmeans)\n",
        "y_kmeans = kmeans.fit_predict(X)"
      ],
      "execution_count": 106,
      "outputs": [
        {
          "output_type": "stream",
          "text": [
            "KMeans(n_clusters=5, random_state=42)\n"
          ],
          "name": "stdout"
        }
      ]
    },
    {
      "cell_type": "code",
      "metadata": {
        "id": "AaaKFv_Xnzqd",
        "colab": {
          "base_uri": "https://localhost:8080/"
        },
        "outputId": "bef05c2f-f9af-46a6-9855-cdd2bb5b4e47"
      },
      "source": [
        "frame = pd.DataFrame(X)\n",
        "frame['cluster'] = y_kmeans\n",
        "frame['cluster'].value_counts()"
      ],
      "execution_count": 107,
      "outputs": [
        {
          "output_type": "execute_result",
          "data": {
            "text/plain": [
              "3    270\n",
              "1     96\n",
              "0     63\n",
              "4     10\n",
              "2      1\n",
              "Name: cluster, dtype: int64"
            ]
          },
          "metadata": {
            "tags": []
          },
          "execution_count": 107
        }
      ]
    },
    {
      "cell_type": "code",
      "metadata": {
        "colab": {
          "base_uri": "https://localhost:8080/"
        },
        "id": "aO-Zvuk1Jwif",
        "outputId": "6465c443-494b-474e-aba6-b0e33a0c0b8c"
      },
      "source": [
        "print(\"Within cluster sum of square when k=5\", kmeans.inertia_)"
      ],
      "execution_count": 108,
      "outputs": [
        {
          "output_type": "stream",
          "text": [
            "Within cluster sum of square when k=5 1058.77125325701\n"
          ],
          "name": "stdout"
        }
      ]
    },
    {
      "cell_type": "code",
      "metadata": {
        "colab": {
          "base_uri": "https://localhost:8080/"
        },
        "id": "HMHwKY81J2gd",
        "outputId": "d8dc2a42-81b0-42cc-e23a-47093a0514f4"
      },
      "source": [
        "print(\"center of Cluster are\", kmeans.cluster_centers_ )"
      ],
      "execution_count": 109,
      "outputs": [
        {
          "output_type": "stream",
          "text": [
            "center of Cluster are [[ 1.65897027e+00 -1.08371983e-01 -2.17703067e-01  1.10347289e+00\n",
            "  -4.04601989e-01  3.33024950e-01]\n",
            " [-4.94431759e-01  6.87784611e-01  9.11873238e-01 -3.31564429e-01\n",
            "   9.07389458e-01  1.02422883e-01]\n",
            " [ 1.96681731e+00  5.17550306e+00  1.28721685e+00  6.90059988e+00\n",
            "  -5.54861977e-01  1.64784475e+01]\n",
            " [-2.30202959e-01 -3.83683148e-01 -4.36547623e-01 -1.65012833e-01\n",
            "  -3.97208366e-01 -1.93797294e-01]\n",
            " [ 3.13830315e-01  3.92190593e+00  4.27561037e+00 -3.57419457e-03\n",
            "   4.61816580e+00  5.03365339e-01]]\n"
          ],
          "name": "stdout"
        }
      ]
    },
    {
      "cell_type": "code",
      "metadata": {
        "colab": {
          "base_uri": "https://localhost:8080/"
        },
        "id": "TXbUDqDwJ4wt",
        "outputId": "550fc3c6-79bf-4f71-cc44-657861556f6d"
      },
      "source": [
        "print(\"Number of iterations\", kmeans.n_iter_) "
      ],
      "execution_count": 110,
      "outputs": [
        {
          "output_type": "stream",
          "text": [
            "Number of iterations 23\n"
          ],
          "name": "stdout"
        }
      ]
    },
    {
      "cell_type": "code",
      "metadata": {
        "colab": {
          "base_uri": "https://localhost:8080/",
          "height": 295
        },
        "id": "-EB92uolJ8A1",
        "outputId": "e2fa50c8-29cc-4aff-f30b-ca5eb75d8628"
      },
      "source": [
        "# Visualising the clusters\n",
        "plt.scatter(X[:,0], X[:,1], s = 100, c = 'black', label = 'Data Distribution')\n",
        "plt.title('Customer Distribution before clustering')\n",
        "plt.xlabel('Channel')\n",
        "plt.ylabel('Region)')\n",
        "plt.legend()\n",
        "plt.show()"
      ],
      "execution_count": 111,
      "outputs": [
        {
          "output_type": "display_data",
          "data": {
            "image/png": "[encoded data removed]",
            "text/plain": [
              "<Figure size 432x288 with 1 Axes>"
            ]
          },
          "metadata": {
            "tags": [],
            "needs_background": "light"
          }
        }
      ]
    },
    {
      "cell_type": "code",
      "metadata": {
        "colab": {
          "base_uri": "https://localhost:8080/"
        },
        "id": "x7oh9BTAKAGb",
        "outputId": "06795d44-3c39-455e-9631-eda8b3653b7c"
      },
      "source": [
        "frame = pd.DataFrame(X)\n",
        "frame['cluster'] = y_kmeans\n",
        "frame['cluster'].value_counts()"
      ],
      "execution_count": 113,
      "outputs": [
        {
          "output_type": "execute_result",
          "data": {
            "text/plain": [
              "3    270\n",
              "1     96\n",
              "0     63\n",
              "4     10\n",
              "2      1\n",
              "Name: cluster, dtype: int64"
            ]
          },
          "metadata": {
            "tags": []
          },
          "execution_count": 113
        }
      ]
    },
    {
      "cell_type": "code",
      "metadata": {
        "colab": {
          "base_uri": "https://localhost:8080/"
        },
        "id": "HT70BvUvKDmD",
        "outputId": "4c6ceee7-6a6f-4d56-f74c-0a45a26aafda"
      },
      "source": [
        "fresh=  1#@param {type:\"number\"}\n",
        "milk = 10000 #@param {type:\"number\"}\n",
        "grocery = 10000 #@param {type:\"number\"}\n",
        "frozen = 25 #@param {type:\"number\"}\n",
        "detergents= 1 #@param {type:\"number\"}\n",
        "delicassen= 1 #@param {type:\"number\"}\n",
        "predict= kmeans.predict(sc.transform([[ fresh,milk,grocery,frozen,detergents,delicassen]]))\n",
        "print(predict)\n",
        "if predict==[0]:\n",
        "  print(\"Customer is misor\")\n",
        "\n",
        "elif predict==[1]:\n",
        "  print(\"Customer is standard\")\n",
        "elif predict==[2]:\n",
        "  print(\"Customer is Target\")\n",
        "elif predict==[3]:\n",
        "  print(\"Customer is careful\")\n",
        "\n",
        "else:\n",
        "  print(\"Custmor is sensible\" )\n",
        "\n"
      ],
      "execution_count": 114,
      "outputs": [
        {
          "output_type": "stream",
          "text": [
            "[3]\n",
            "Customer is careful\n"
          ],
          "name": "stdout"
        }
      ]
    },
    {
      "cell_type": "code",
      "metadata": {
        "colab": {
          "base_uri": "https://localhost:8080/",
          "height": 295
        },
        "id": "Q_vJdQzPKG93",
        "outputId": "1cbefbe1-8e4a-4942-d083-ee59cb1d3c62"
      },
      "source": [
        "# Visualising the clusters\n",
        "plt.scatter(X[y_kmeans == 0, 0], X[y_kmeans == 0, 1], s = 100, c = 'red', label = 'Cluster 1')\n",
        "plt.scatter(X[y_kmeans == 1, 0], X[y_kmeans == 1, 1], s = 100, c = 'blue', label = 'Cluster 2')\n",
        "plt.scatter(X[y_kmeans == 2, 0], X[y_kmeans == 2, 1], s = 100, c = 'green', label = 'Cluster 3')\n",
        "plt.scatter(X[y_kmeans == 3, 0], X[y_kmeans == 3, 1], s = 100, c = 'cyan', label = 'Cluster 4')\n",
        "plt.scatter(X[y_kmeans== 4, 0], X[y_kmeans == 4, 1], s = 100, c = 'magenta', label = 'Cluster 5')\n",
        "plt.scatter(kmeans.cluster_centers_[:, 0], kmeans.cluster_centers_[:, 1], s = 300, c = 'yellow', label = 'Centroids')\n",
        "plt.title('Clusters of customers')\n",
        "plt.xlabel('Spending on Fresh')\n",
        "plt.ylabel('Spending on Milk')\n",
        "plt.legend()\n",
        "plt.show()"
      ],
      "execution_count": 115,
      "outputs": [
        {
          "output_type": "display_data",
          "data": {
            "image/png": "[encoded data removed]",
            "text/plain": [
              "<Figure size 432x288 with 1 Axes>"
            ]
          },
          "metadata": {
            "tags": [],
            "needs_background": "light"
          }
        }
      ]
    },
    {
      "cell_type": "code",
      "metadata": {
        "colab": {
          "base_uri": "https://localhost:8080/",
          "height": 295
        },
        "id": "iArlUNntKJ-h",
        "outputId": "7b71af50-810f-4d75-96f3-8fa3e9a87c11"
      },
      "source": [
        "# Visualising the clusters\n",
        "plt.scatter(X[y_kmeans == 0, 0], X[y_kmeans == 0, 1], s = 100, c = 'red', label = 'Careless')\n",
        "plt.scatter(X[y_kmeans == 1, 0], X[y_kmeans == 1, 1], s = 100, c = 'blue', label = 'standard')\n",
        "plt.scatter(X[y_kmeans == 2, 0], X[y_kmeans == 2, 1], s = 100, c = 'green', label = 'Target')\n",
        "plt.scatter(X[y_kmeans == 3, 0], X[y_kmeans == 3, 1], s = 100, c = 'cyan', label = 'Careful')\n",
        "plt.scatter(X[y_kmeans== 4, 0], X[y_kmeans == 4, 1], s = 100, c = 'magenta', label = 'Sensible')\n",
        "plt.scatter(kmeans.cluster_centers_[:, 0], kmeans.cluster_centers_[:, 1], s = 300, c = 'yellow', label = 'Centroids')\n",
        "plt.title('Clusters of customers')\n",
        "plt.xlabel('Spending on Fresh')\n",
        "plt.ylabel('Spending on Milk')\n",
        "plt.legend()\n",
        "plt.show()"
      ],
      "execution_count": 116,
      "outputs": [
        {
          "output_type": "display_data",
          "data": {
            "image/png": "[encoded data removed]",
            "text/plain": [
              "<Figure size 432x288 with 1 Axes>"
            ]
          },
          "metadata": {
            "tags": [],
            "needs_background": "light"
          }
        }
      ]
    },
    {
      "cell_type": "code",
      "metadata": {
        "colab": {
          "base_uri": "https://localhost:8080/"
        },
        "id": "e9TprwUzKM62",
        "outputId": "a1924854-d0fc-473c-f743-63d5cac96687"
      },
      "source": [
        "import pickle \n",
        "  \n",
        "# Save the trained model as a pickle string. \n",
        "saved_model = pickle.dumps(kmeans) \n",
        "  \n",
        "# Load the pickled model \n",
        "Saved_Model = pickle.loads(saved_model) \n",
        "  \n",
        "# Use the loaded pickled model to make predictions \n",
        "Saved_Model.predict(X)"
      ],
      "execution_count": 117,
      "outputs": [
        {
          "output_type": "execute_result",
          "data": {
            "text/plain": [
              "array([3, 1, 1, 3, 0, 3, 3, 3, 3, 1, 1, 3, 0, 1, 1, 3, 1, 3, 3, 3, 3, 3,\n",
              "       0, 1, 1, 3, 3, 3, 1, 0, 3, 3, 3, 0, 3, 1, 0, 1, 1, 0, 0, 3, 1, 1,\n",
              "       1, 1, 1, 4, 1, 1, 3, 3, 0, 1, 3, 3, 4, 1, 3, 3, 3, 4, 3, 1, 3, 4,\n",
              "       3, 1, 3, 3, 0, 0, 3, 0, 3, 3, 3, 1, 3, 3, 3, 1, 1, 3, 3, 4, 4, 0,\n",
              "       3, 0, 3, 3, 4, 0, 1, 3, 3, 3, 3, 3, 1, 1, 3, 0, 3, 3, 1, 1, 3, 1,\n",
              "       3, 1, 0, 3, 3, 3, 3, 3, 3, 3, 3, 3, 3, 3, 0, 0, 0, 3, 3, 0, 3, 3,\n",
              "       3, 3, 3, 3, 3, 3, 3, 3, 3, 0, 0, 3, 3, 1, 3, 3, 3, 0, 3, 3, 3, 3,\n",
              "       3, 1, 1, 3, 3, 1, 1, 3, 3, 1, 3, 1, 1, 3, 3, 3, 1, 1, 3, 1, 3, 1,\n",
              "       0, 3, 3, 3, 3, 0, 1, 2, 3, 3, 3, 3, 1, 1, 3, 3, 3, 1, 3, 0, 0, 1,\n",
              "       3, 3, 1, 1, 0, 3, 3, 1, 3, 3, 3, 1, 3, 4, 3, 3, 1, 1, 1, 3, 1, 3,\n",
              "       3, 1, 3, 3, 3, 3, 3, 3, 3, 3, 3, 3, 3, 3, 3, 3, 3, 3, 3, 0, 0, 3,\n",
              "       3, 3, 1, 1, 3, 3, 3, 3, 3, 4, 3, 0, 1, 0, 3, 3, 0, 0, 3, 3, 3, 3,\n",
              "       1, 1, 1, 3, 1, 3, 3, 3, 3, 0, 3, 3, 0, 0, 3, 3, 3, 3, 0, 0, 0, 0,\n",
              "       3, 3, 3, 0, 3, 3, 3, 1, 3, 3, 3, 3, 3, 3, 3, 1, 1, 1, 1, 1, 1, 3,\n",
              "       3, 1, 3, 0, 1, 3, 3, 1, 3, 3, 3, 1, 3, 3, 3, 3, 3, 0, 3, 3, 3, 3,\n",
              "       3, 1, 3, 4, 0, 0, 3, 3, 3, 3, 1, 1, 3, 1, 3, 3, 1, 0, 3, 1, 3, 1,\n",
              "       3, 1, 3, 3, 3, 1, 3, 3, 3, 3, 3, 3, 3, 3, 3, 3, 3, 3, 0, 0, 3, 3,\n",
              "       3, 3, 1, 0, 3, 3, 0, 0, 0, 3, 1, 3, 3, 3, 3, 3, 3, 3, 3, 0, 3, 3,\n",
              "       1, 3, 3, 3, 3, 0, 3, 3, 3, 3, 0, 1, 3, 3, 3, 3, 3, 0, 3, 3, 1, 3,\n",
              "       1, 3, 1, 3, 3, 3, 3, 0, 1, 0, 3, 3, 3, 0, 3, 3, 3, 0, 0, 1, 3, 3],\n",
              "      dtype=int32)"
            ]
          },
          "metadata": {
            "tags": []
          },
          "execution_count": 117
        }
      ]
    },
    {
      "cell_type": "code",
      "metadata": {
        "colab": {
          "base_uri": "https://localhost:8080/"
        },
        "id": "Zz8DNZaFKQAc",
        "outputId": "8a42720e-001b-46dc-d9cb-e24403048b24"
      },
      "source": [
        "import pickle \n",
        "print(\"[INFO] Saving model...\")\n",
        "# Save the trained model as a pickle string. \n",
        "saved_model=pickle.dump(kmeans,open('/content/drive/My Drive/kmclusterassignment.pkl', 'wb')) \n",
        "# Saving model to disk"
      ],
      "execution_count": 119,
      "outputs": [
        {
          "output_type": "stream",
          "text": [
            "[INFO] Saving model...\n"
          ],
          "name": "stdout"
        }
      ]
    },
    {
      "cell_type": "code",
      "metadata": {
        "colab": {
          "base_uri": "https://localhost:8080/"
        },
        "id": "9JCbSMPiKShm",
        "outputId": "1d7e30e0-68d0-4124-f98c-991c400bfa39"
      },
      "source": [
        "# Load the pickled model \n",
        "model = pickle.load(open('/content/drive/My Drive/kmclusterassignment.pkl','rb'))  \n",
        "# Use the loaded pickled model to make predictions \n",
        "model.predict(X)"
      ],
      "execution_count": null,
      "outputs": [
        {
          "output_type": "execute_result",
          "data": {
            "text/plain": [
              "array([4, 0, 0, 4, 1, 4, 4, 4, 4, 0, 0, 4, 1, 0, 0, 4, 0, 4, 4, 4, 4, 4,\n",
              "       1, 0, 0, 4, 4, 4, 0, 1, 4, 4, 4, 1, 4, 0, 1, 0, 0, 1, 1, 4, 0, 0,\n",
              "       0, 0, 0, 3, 0, 0, 4, 4, 1, 0, 4, 4, 3, 0, 4, 4, 4, 3, 4, 0, 4, 3,\n",
              "       4, 0, 4, 4, 1, 1, 4, 1, 4, 4, 4, 0, 4, 4, 4, 0, 0, 4, 4, 3, 3, 1,\n",
              "       4, 1, 4, 4, 3, 1, 0, 4, 4, 4, 4, 4, 0, 0, 4, 1, 4, 4, 0, 0, 4, 0,\n",
              "       4, 0, 1, 4, 4, 4, 4, 4, 4, 4, 4, 4, 4, 4, 1, 1, 1, 4, 4, 1, 4, 4,\n",
              "       4, 4, 4, 4, 4, 4, 4, 4, 4, 1, 1, 4, 4, 0, 4, 4, 4, 1, 4, 4, 4, 4,\n",
              "       4, 0, 0, 4, 0, 0, 0, 4, 4, 0, 4, 0, 0, 4, 4, 4, 0, 0, 4, 0, 4, 0,\n",
              "       1, 4, 4, 4, 4, 1, 0, 2, 4, 4, 4, 4, 0, 0, 4, 4, 4, 0, 4, 1, 1, 0,\n",
              "       4, 4, 0, 0, 1, 4, 4, 0, 4, 4, 4, 0, 4, 3, 4, 4, 0, 0, 0, 4, 0, 4,\n",
              "       4, 0, 4, 4, 4, 4, 4, 4, 4, 4, 4, 4, 4, 4, 4, 4, 4, 4, 4, 1, 1, 4,\n",
              "       4, 4, 0, 0, 4, 4, 4, 4, 4, 3, 4, 1, 0, 1, 4, 4, 1, 1, 4, 4, 4, 4,\n",
              "       0, 0, 0, 4, 0, 4, 4, 4, 4, 1, 4, 4, 1, 1, 4, 4, 4, 4, 1, 1, 1, 1,\n",
              "       4, 4, 4, 1, 4, 4, 4, 0, 4, 4, 4, 4, 4, 4, 4, 0, 0, 0, 0, 0, 0, 4,\n",
              "       4, 0, 4, 1, 0, 4, 4, 0, 4, 4, 4, 0, 4, 4, 4, 4, 4, 1, 4, 4, 4, 4,\n",
              "       4, 0, 4, 3, 1, 1, 4, 4, 4, 4, 0, 0, 4, 0, 4, 4, 0, 1, 4, 0, 4, 0,\n",
              "       4, 0, 4, 4, 4, 0, 4, 4, 4, 4, 4, 4, 4, 4, 4, 4, 4, 4, 1, 1, 4, 4,\n",
              "       4, 4, 0, 1, 4, 4, 1, 1, 1, 4, 0, 4, 4, 4, 4, 4, 4, 4, 4, 1, 4, 4,\n",
              "       0, 4, 4, 4, 4, 1, 4, 4, 4, 4, 1, 0, 4, 4, 4, 4, 4, 1, 4, 4, 0, 4,\n",
              "       0, 4, 0, 4, 4, 4, 4, 1, 0, 1, 4, 4, 4, 1, 4, 4, 4, 1, 1, 0, 4, 4],\n",
              "      dtype=int32)"
            ]
          },
          "metadata": {
            "tags": []
          },
          "execution_count": 47
        }
      ]
    },
    {
      "cell_type": "code",
      "metadata": {
        "colab": {
          "base_uri": "https://localhost:8080/"
        },
        "id": "AFwModqpKvQf",
        "outputId": "70ab1c74-3d5d-4da2-d78a-78a75da677da"
      },
      "source": [
        "!pip install streamlit"
      ],
      "execution_count": null,
      "outputs": [
        {
          "output_type": "stream",
          "text": [
            "Requirement already satisfied: streamlit in /usr/local/lib/python3.7/dist-packages (0.82.0)\n",
            "Requirement already satisfied: toml in /usr/local/lib/python3.7/dist-packages (from streamlit) (0.10.2)\n",
            "Requirement already satisfied: blinker in /usr/local/lib/python3.7/dist-packages (from streamlit) (1.4)\n",
            "Requirement already satisfied: packaging in /usr/local/lib/python3.7/dist-packages (from streamlit) (20.9)\n",
            "Requirement already satisfied: base58 in /usr/local/lib/python3.7/dist-packages (from streamlit) (2.1.0)\n",
            "Requirement already satisfied: tornado>=5.0 in /usr/local/lib/python3.7/dist-packages (from streamlit) (5.1.1)\n",
            "Requirement already satisfied: requests in /usr/local/lib/python3.7/dist-packages (from streamlit) (2.23.0)\n",
            "Requirement already satisfied: pydeck>=0.1.dev5 in /usr/local/lib/python3.7/dist-packages (from streamlit) (0.6.2)\n",
            "Requirement already satisfied: protobuf!=3.11,>=3.6.0 in /usr/local/lib/python3.7/dist-packages (from streamlit) (3.12.4)\n",
            "Requirement already satisfied: validators in /usr/local/lib/python3.7/dist-packages (from streamlit) (0.18.2)\n",
            "Requirement already satisfied: altair>=3.2.0 in /usr/local/lib/python3.7/dist-packages (from streamlit) (4.1.0)\n",
            "Requirement already satisfied: astor in /usr/local/lib/python3.7/dist-packages (from streamlit) (0.8.1)\n",
            "Requirement already satisfied: pandas>=0.21.0 in /usr/local/lib/python3.7/dist-packages (from streamlit) (1.1.5)\n",
            "Requirement already satisfied: cachetools>=4.0 in /usr/local/lib/python3.7/dist-packages (from streamlit) (4.2.2)\n",
            "Requirement already satisfied: numpy in /usr/local/lib/python3.7/dist-packages (from streamlit) (1.19.5)\n",
            "Requirement already satisfied: gitpython in /usr/local/lib/python3.7/dist-packages (from streamlit) (3.1.17)\n",
            "Requirement already satisfied: python-dateutil in /usr/local/lib/python3.7/dist-packages (from streamlit) (2.8.1)\n",
            "Requirement already satisfied: tzlocal in /usr/local/lib/python3.7/dist-packages (from streamlit) (1.5.1)\n",
            "Requirement already satisfied: click<8.0,>=7.0 in /usr/local/lib/python3.7/dist-packages (from streamlit) (7.1.2)\n",
            "Requirement already satisfied: pillow>=6.2.0 in /usr/local/lib/python3.7/dist-packages (from streamlit) (7.1.2)\n",
            "Requirement already satisfied: watchdog; platform_system != \"Darwin\" in /usr/local/lib/python3.7/dist-packages (from streamlit) (2.1.1)\n",
            "Requirement already satisfied: pyarrow; python_version < \"3.9\" in /usr/local/lib/python3.7/dist-packages (from streamlit) (3.0.0)\n",
            "Requirement already satisfied: pyparsing>=2.0.2 in /usr/local/lib/python3.7/dist-packages (from packaging->streamlit) (2.4.7)\n",
            "Requirement already satisfied: idna<3,>=2.5 in /usr/local/lib/python3.7/dist-packages (from requests->streamlit) (2.10)\n",
            "Requirement already satisfied: chardet<4,>=3.0.2 in /usr/local/lib/python3.7/dist-packages (from requests->streamlit) (3.0.4)\n",
            "Requirement already satisfied: certifi>=2017.4.17 in /usr/local/lib/python3.7/dist-packages (from requests->streamlit) (2020.12.5)\n",
            "Requirement already satisfied: urllib3!=1.25.0,!=1.25.1,<1.26,>=1.21.1 in /usr/local/lib/python3.7/dist-packages (from requests->streamlit) (1.24.3)\n",
            "Requirement already satisfied: traitlets>=4.3.2 in /usr/local/lib/python3.7/dist-packages (from pydeck>=0.1.dev5->streamlit) (5.0.5)\n",
            "Requirement already satisfied: ipykernel>=5.1.2; python_version >= \"3.4\" in /usr/local/lib/python3.7/dist-packages (from pydeck>=0.1.dev5->streamlit) (5.5.5)\n",
            "Requirement already satisfied: ipywidgets>=7.0.0 in /usr/local/lib/python3.7/dist-packages (from pydeck>=0.1.dev5->streamlit) (7.6.3)\n",
            "Requirement already satisfied: jinja2>=2.10.1 in /usr/local/lib/python3.7/dist-packages (from pydeck>=0.1.dev5->streamlit) (2.11.3)\n",
            "Requirement already satisfied: six>=1.9 in /usr/local/lib/python3.7/dist-packages (from protobuf!=3.11,>=3.6.0->streamlit) (1.15.0)\n",
            "Requirement already satisfied: setuptools in /usr/local/lib/python3.7/dist-packages (from protobuf!=3.11,>=3.6.0->streamlit) (56.1.0)\n",
            "Requirement already satisfied: decorator>=3.4.0 in /usr/local/lib/python3.7/dist-packages (from validators->streamlit) (4.4.2)\n",
            "Requirement already satisfied: entrypoints in /usr/local/lib/python3.7/dist-packages (from altair>=3.2.0->streamlit) (0.3)\n",
            "Requirement already satisfied: toolz in /usr/local/lib/python3.7/dist-packages (from altair>=3.2.0->streamlit) (0.11.1)\n",
            "Requirement already satisfied: jsonschema in /usr/local/lib/python3.7/dist-packages (from altair>=3.2.0->streamlit) (2.6.0)\n",
            "Requirement already satisfied: pytz>=2017.2 in /usr/local/lib/python3.7/dist-packages (from pandas>=0.21.0->streamlit) (2018.9)\n",
            "Requirement already satisfied: typing-extensions>=3.7.4.0; python_version < \"3.8\" in /usr/local/lib/python3.7/dist-packages (from gitpython->streamlit) (3.7.4.3)\n",
            "Requirement already satisfied: gitdb<5,>=4.0.1 in /usr/local/lib/python3.7/dist-packages (from gitpython->streamlit) (4.0.7)\n",
            "Requirement already satisfied: ipython-genutils in /usr/local/lib/python3.7/dist-packages (from traitlets>=4.3.2->pydeck>=0.1.dev5->streamlit) (0.2.0)\n",
            "Requirement already satisfied: jupyter-client in /usr/local/lib/python3.7/dist-packages (from ipykernel>=5.1.2; python_version >= \"3.4\"->pydeck>=0.1.dev5->streamlit) (5.3.5)\n",
            "Requirement already satisfied: ipython>=5.0.0 in /usr/local/lib/python3.7/dist-packages (from ipykernel>=5.1.2; python_version >= \"3.4\"->pydeck>=0.1.dev5->streamlit) (5.5.0)\n",
            "Requirement already satisfied: widgetsnbextension~=3.5.0 in /usr/local/lib/python3.7/dist-packages (from ipywidgets>=7.0.0->pydeck>=0.1.dev5->streamlit) (3.5.1)\n",
            "Requirement already satisfied: jupyterlab-widgets>=1.0.0; python_version >= \"3.6\" in /usr/local/lib/python3.7/dist-packages (from ipywidgets>=7.0.0->pydeck>=0.1.dev5->streamlit) (1.0.0)\n",
            "Requirement already satisfied: nbformat>=4.2.0 in /usr/local/lib/python3.7/dist-packages (from ipywidgets>=7.0.0->pydeck>=0.1.dev5->streamlit) (5.1.3)\n",
            "Requirement already satisfied: MarkupSafe>=0.23 in /usr/local/lib/python3.7/dist-packages (from jinja2>=2.10.1->pydeck>=0.1.dev5->streamlit) (2.0.0)\n",
            "Requirement already satisfied: smmap<5,>=3.0.1 in /usr/local/lib/python3.7/dist-packages (from gitdb<5,>=4.0.1->gitpython->streamlit) (4.0.0)\n",
            "Requirement already satisfied: pyzmq>=13 in /usr/local/lib/python3.7/dist-packages (from jupyter-client->ipykernel>=5.1.2; python_version >= \"3.4\"->pydeck>=0.1.dev5->streamlit) (22.0.3)\n",
            "Requirement already satisfied: jupyter-core>=4.6.0 in /usr/local/lib/python3.7/dist-packages (from jupyter-client->ipykernel>=5.1.2; python_version >= \"3.4\"->pydeck>=0.1.dev5->streamlit) (4.7.1)\n",
            "Requirement already satisfied: prompt-toolkit<2.0.0,>=1.0.4 in /usr/local/lib/python3.7/dist-packages (from ipython>=5.0.0->ipykernel>=5.1.2; python_version >= \"3.4\"->pydeck>=0.1.dev5->streamlit) (1.0.18)\n",
            "Requirement already satisfied: simplegeneric>0.8 in /usr/local/lib/python3.7/dist-packages (from ipython>=5.0.0->ipykernel>=5.1.2; python_version >= \"3.4\"->pydeck>=0.1.dev5->streamlit) (0.8.1)\n",
            "Requirement already satisfied: pickleshare in /usr/local/lib/python3.7/dist-packages (from ipython>=5.0.0->ipykernel>=5.1.2; python_version >= \"3.4\"->pydeck>=0.1.dev5->streamlit) (0.7.5)\n",
            "Requirement already satisfied: pygments in /usr/local/lib/python3.7/dist-packages (from ipython>=5.0.0->ipykernel>=5.1.2; python_version >= \"3.4\"->pydeck>=0.1.dev5->streamlit) (2.6.1)\n",
            "Requirement already satisfied: pexpect; sys_platform != \"win32\" in /usr/local/lib/python3.7/dist-packages (from ipython>=5.0.0->ipykernel>=5.1.2; python_version >= \"3.4\"->pydeck>=0.1.dev5->streamlit) (4.8.0)\n",
            "Requirement already satisfied: notebook>=4.4.1 in /usr/local/lib/python3.7/dist-packages (from widgetsnbextension~=3.5.0->ipywidgets>=7.0.0->pydeck>=0.1.dev5->streamlit) (5.3.1)\n",
            "Requirement already satisfied: wcwidth in /usr/local/lib/python3.7/dist-packages (from prompt-toolkit<2.0.0,>=1.0.4->ipython>=5.0.0->ipykernel>=5.1.2; python_version >= \"3.4\"->pydeck>=0.1.dev5->streamlit) (0.2.5)\n",
            "Requirement already satisfied: ptyprocess>=0.5 in /usr/local/lib/python3.7/dist-packages (from pexpect; sys_platform != \"win32\"->ipython>=5.0.0->ipykernel>=5.1.2; python_version >= \"3.4\"->pydeck>=0.1.dev5->streamlit) (0.7.0)\n",
            "Requirement already satisfied: terminado>=0.8.1 in /usr/local/lib/python3.7/dist-packages (from notebook>=4.4.1->widgetsnbextension~=3.5.0->ipywidgets>=7.0.0->pydeck>=0.1.dev5->streamlit) (0.9.5)\n",
            "Requirement already satisfied: Send2Trash in /usr/local/lib/python3.7/dist-packages (from notebook>=4.4.1->widgetsnbextension~=3.5.0->ipywidgets>=7.0.0->pydeck>=0.1.dev5->streamlit) (1.5.0)\n",
            "Requirement already satisfied: nbconvert in /usr/local/lib/python3.7/dist-packages (from notebook>=4.4.1->widgetsnbextension~=3.5.0->ipywidgets>=7.0.0->pydeck>=0.1.dev5->streamlit) (5.6.1)\n",
            "Requirement already satisfied: testpath in /usr/local/lib/python3.7/dist-packages (from nbconvert->notebook>=4.4.1->widgetsnbextension~=3.5.0->ipywidgets>=7.0.0->pydeck>=0.1.dev5->streamlit) (0.4.4)\n",
            "Requirement already satisfied: mistune<2,>=0.8.1 in /usr/local/lib/python3.7/dist-packages (from nbconvert->notebook>=4.4.1->widgetsnbextension~=3.5.0->ipywidgets>=7.0.0->pydeck>=0.1.dev5->streamlit) (0.8.4)\n",
            "Requirement already satisfied: bleach in /usr/local/lib/python3.7/dist-packages (from nbconvert->notebook>=4.4.1->widgetsnbextension~=3.5.0->ipywidgets>=7.0.0->pydeck>=0.1.dev5->streamlit) (3.3.0)\n",
            "Requirement already satisfied: pandocfilters>=1.4.1 in /usr/local/lib/python3.7/dist-packages (from nbconvert->notebook>=4.4.1->widgetsnbextension~=3.5.0->ipywidgets>=7.0.0->pydeck>=0.1.dev5->streamlit) (1.4.3)\n",
            "Requirement already satisfied: defusedxml in /usr/local/lib/python3.7/dist-packages (from nbconvert->notebook>=4.4.1->widgetsnbextension~=3.5.0->ipywidgets>=7.0.0->pydeck>=0.1.dev5->streamlit) (0.7.1)\n",
            "Requirement already satisfied: webencodings in /usr/local/lib/python3.7/dist-packages (from bleach->nbconvert->notebook>=4.4.1->widgetsnbextension~=3.5.0->ipywidgets>=7.0.0->pydeck>=0.1.dev5->streamlit) (0.5.1)\n"
          ],
          "name": "stdout"
        }
      ]
    },
    {
      "cell_type": "code",
      "metadata": {
        "colab": {
          "base_uri": "https://localhost:8080/"
        },
        "id": "D6HCn57iKzFZ",
        "outputId": "8fa61f7d-8a15-46e9-f6e0-8989d1cf8128"
      },
      "source": [
        "# Mounting Google Drive\n",
        "from google.colab import drive\n",
        "drive.mount('/content/drive')"
      ],
      "execution_count": null,
      "outputs": [
        {
          "output_type": "stream",
          "text": [
            "Drive already mounted at /content/drive; to attempt to forcibly remount, call drive.mount(\"/content/drive\", force_remount=True).\n"
          ],
          "name": "stdout"
        }
      ]
    },
    {
      "cell_type": "code",
      "metadata": {
        "colab": {
          "base_uri": "https://localhost:8080/"
        },
        "id": "xnK8zxqqK1w8",
        "outputId": "b3594c9f-ed50-49db-ee7f-6cb564f77955"
      },
      "source": [
        "!pip install pyngrok"
      ],
      "execution_count": null,
      "outputs": [
        {
          "output_type": "stream",
          "text": [
            "Collecting pyngrok\n",
            "\u001b[?25l  Downloading https://files.pythonhosted.org/packages/6b/4e/a2fe095bbe17cf26424c4abcd22a0490e22d01cc628f25af5e220ddbf6f0/pyngrok-5.0.5.tar.gz (745kB)\n",
            "\r\u001b[K     |▍                               | 10kB 13.8MB/s eta 0:00:01\r\u001b[K     |▉                               | 20kB 19.4MB/s eta 0:00:01\r\u001b[K     |█▎                              | 30kB 16.2MB/s eta 0:00:01\r\u001b[K     |█▊                              | 40kB 14.9MB/s eta 0:00:01\r\u001b[K     |██▏                             | 51kB 8.5MB/s eta 0:00:01\r\u001b[K     |██▋                             | 61kB 6.8MB/s eta 0:00:01\r\u001b[K     |███                             | 71kB 7.5MB/s eta 0:00:01\r\u001b[K     |███▌                            | 81kB 8.3MB/s eta 0:00:01\r\u001b[K     |████                            | 92kB 9.1MB/s eta 0:00:01\r\u001b[K     |████▍                           | 102kB 8.1MB/s eta 0:00:01\r\u001b[K     |████▉                           | 112kB 8.1MB/s eta 0:00:01\r\u001b[K     |█████▎                          | 122kB 8.1MB/s eta 0:00:01\r\u001b[K     |█████▊                          | 133kB 8.1MB/s eta 0:00:01\r\u001b[K     |██████▏                         | 143kB 8.1MB/s eta 0:00:01\r\u001b[K     |██████▋                         | 153kB 8.1MB/s eta 0:00:01\r\u001b[K     |███████                         | 163kB 8.1MB/s eta 0:00:01\r\u001b[K     |███████▌                        | 174kB 8.1MB/s eta 0:00:01\r\u001b[K     |████████                        | 184kB 8.1MB/s eta 0:00:01\r\u001b[K     |████████▍                       | 194kB 8.1MB/s eta 0:00:01\r\u001b[K     |████████▉                       | 204kB 8.1MB/s eta 0:00:01\r\u001b[K     |█████████▎                      | 215kB 8.1MB/s eta 0:00:01\r\u001b[K     |█████████▊                      | 225kB 8.1MB/s eta 0:00:01\r\u001b[K     |██████████▏                     | 235kB 8.1MB/s eta 0:00:01\r\u001b[K     |██████████▌                     | 245kB 8.1MB/s eta 0:00:01\r\u001b[K     |███████████                     | 256kB 8.1MB/s eta 0:00:01\r\u001b[K     |███████████▍                    | 266kB 8.1MB/s eta 0:00:01\r\u001b[K     |███████████▉                    | 276kB 8.1MB/s eta 0:00:01\r\u001b[K     |████████████▎                   | 286kB 8.1MB/s eta 0:00:01\r\u001b[K     |████████████▊                   | 296kB 8.1MB/s eta 0:00:01\r\u001b[K     |█████████████▏                  | 307kB 8.1MB/s eta 0:00:01\r\u001b[K     |█████████████▋                  | 317kB 8.1MB/s eta 0:00:01\r\u001b[K     |██████████████                  | 327kB 8.1MB/s eta 0:00:01\r\u001b[K     |██████████████▌                 | 337kB 8.1MB/s eta 0:00:01\r\u001b[K     |███████████████                 | 348kB 8.1MB/s eta 0:00:01\r\u001b[K     |███████████████▍                | 358kB 8.1MB/s eta 0:00:01\r\u001b[K     |███████████████▉                | 368kB 8.1MB/s eta 0:00:01\r\u001b[K     |████████████████▎               | 378kB 8.1MB/s eta 0:00:01\r\u001b[K     |████████████████▊               | 389kB 8.1MB/s eta 0:00:01\r\u001b[K     |█████████████████▏              | 399kB 8.1MB/s eta 0:00:01\r\u001b[K     |█████████████████▋              | 409kB 8.1MB/s eta 0:00:01\r\u001b[K     |██████████████████              | 419kB 8.1MB/s eta 0:00:01\r\u001b[K     |██████████████████▌             | 430kB 8.1MB/s eta 0:00:01\r\u001b[K     |███████████████████             | 440kB 8.1MB/s eta 0:00:01\r\u001b[K     |███████████████████▍            | 450kB 8.1MB/s eta 0:00:01\r\u001b[K     |███████████████████▉            | 460kB 8.1MB/s eta 0:00:01\r\u001b[K     |████████████████████▎           | 471kB 8.1MB/s eta 0:00:01\r\u001b[K     |████████████████████▊           | 481kB 8.1MB/s eta 0:00:01\r\u001b[K     |█████████████████████           | 491kB 8.1MB/s eta 0:00:01\r\u001b[K     |█████████████████████▌          | 501kB 8.1MB/s eta 0:00:01\r\u001b[K     |██████████████████████          | 512kB 8.1MB/s eta 0:00:01\r\u001b[K     |██████████████████████▍         | 522kB 8.1MB/s eta 0:00:01\r\u001b[K     |██████████████████████▉         | 532kB 8.1MB/s eta 0:00:01\r\u001b[K     |███████████████████████▎        | 542kB 8.1MB/s eta 0:00:01\r\u001b[K     |███████████████████████▊        | 552kB 8.1MB/s eta 0:00:01\r\u001b[K     |████████████████████████▏       | 563kB 8.1MB/s eta 0:00:01\r\u001b[K     |████████████████████████▋       | 573kB 8.1MB/s eta 0:00:01\r\u001b[K     |█████████████████████████       | 583kB 8.1MB/s eta 0:00:01\r\u001b[K     |█████████████████████████▌      | 593kB 8.1MB/s eta 0:00:01\r\u001b[K     |██████████████████████████      | 604kB 8.1MB/s eta 0:00:01\r\u001b[K     |██████████████████████████▍     | 614kB 8.1MB/s eta 0:00:01\r\u001b[K     |██████████████████████████▉     | 624kB 8.1MB/s eta 0:00:01\r\u001b[K     |███████████████████████████▎    | 634kB 8.1MB/s eta 0:00:01\r\u001b[K     |███████████████████████████▊    | 645kB 8.1MB/s eta 0:00:01\r\u001b[K     |████████████████████████████▏   | 655kB 8.1MB/s eta 0:00:01\r\u001b[K     |████████████████████████████▋   | 665kB 8.1MB/s eta 0:00:01\r\u001b[K     |█████████████████████████████   | 675kB 8.1MB/s eta 0:00:01\r\u001b[K     |█████████████████████████████▌  | 686kB 8.1MB/s eta 0:00:01\r\u001b[K     |██████████████████████████████  | 696kB 8.1MB/s eta 0:00:01\r\u001b[K     |██████████████████████████████▍ | 706kB 8.1MB/s eta 0:00:01\r\u001b[K     |██████████████████████████████▉ | 716kB 8.1MB/s eta 0:00:01\r\u001b[K     |███████████████████████████████▏| 727kB 8.1MB/s eta 0:00:01\r\u001b[K     |███████████████████████████████▋| 737kB 8.1MB/s eta 0:00:01\r\u001b[K     |████████████████████████████████| 747kB 8.1MB/s \n",
            "\u001b[?25hRequirement already satisfied: PyYAML in /usr/local/lib/python3.7/dist-packages (from pyngrok) (3.13)\n",
            "Building wheels for collected packages: pyngrok\n",
            "  Building wheel for pyngrok (setup.py) ... \u001b[?25l\u001b[?25hdone\n",
            "  Created wheel for pyngrok: filename=pyngrok-5.0.5-cp37-none-any.whl size=19246 sha256=a3af17bc6c7353b745655312b898f733b69c8d8d7c5d23326da60936f66663ed\n",
            "  Stored in directory: /root/.cache/pip/wheels/0c/13/64/5ebbcc22eaf53fdf5766b397c1fb17c83f5775fdccf0ea1b88\n",
            "Successfully built pyngrok\n",
            "Installing collected packages: pyngrok\n",
            "Successfully installed pyngrok-5.0.5\n"
          ],
          "name": "stdout"
        }
      ]
    },
    {
      "cell_type": "code",
      "metadata": {
        "colab": {
          "base_uri": "https://localhost:8080/"
        },
        "id": "eYw3VtpSK5xT",
        "outputId": "e453f7e8-7817-424f-871a-4850fd314755"
      },
      "source": [
        "!ngrok authtoken 1oEm0wopEJyjrT38ULluwUKK5fq_7ai4ZocZJ2YuFuoiJfoMh"
      ],
      "execution_count": null,
      "outputs": [
        {
          "output_type": "stream",
          "text": [
            "Authtoken saved to configuration file: /root/.ngrok2/ngrok.yml\n"
          ],
          "name": "stdout"
        }
      ]
    },
    {
      "cell_type": "code",
      "metadata": {
        "colab": {
          "base_uri": "https://localhost:8080/"
        },
        "id": "h4ErY6B1LIH8",
        "outputId": "f177ce50-8bce-4752-950f-50a4d3123419"
      },
      "source": [
        "%%writefile app.py\n",
        "import streamlit as st \n",
        "from PIL import Image\n",
        "import pickle\n",
        "import numpy as np\n",
        "import matplotlib.pyplot as plt\n",
        "import pandas as pd\n",
        "st.set_option('deprecation.showfileUploaderEncoding', False)\n",
        "# Load the pickled model\n",
        "model = pickle.load(open('/content/drive/My Drive/kmeansclusterassignment.pkl','rb'))   \n",
        "dataset= pd.read_csv('/content/drive/My Drive/Wholesale customers data.csv')\n",
        "X = dataset.iloc[:,2:8].values\n",
        "from sklearn.preprocessing import StandardScaler\n",
        "sc = StandardScaler()\n",
        "X = sc.fit_transform(X)\n",
        "def predict_note_authentication(chanel,region,fresh,milk,grocery,frozen,detergents,delicassen):\n",
        "  predict= model.predict(sc.transform([[fresh,milk,grocery,frozen,detergents,delicassen]]))\n",
        "  print(\"cluster number\", predict)\n",
        "  \n",
        "def main():\n",
        "    \n",
        "    html_temp = \"\"\"\n",
        "   <div class=\"\" style=\"background-color:blue;\" >\n",
        "   <div class=\"clearfix\">           \n",
        "   <div class=\"col-md-12\">\n",
        "   <center><p style=\"font-size:40px;color:white;margin-top:10px;\">Poornima Institute of Engineering & Technology</p></center> \n",
        "   <center><p style=\"font-size:30px;color:white;margin-top:10px;\">Department of Computer Engineering</p></center> \n",
        "   <center><p style=\"font-size:25px;color:white;margin-top:10px;\"Machine Learning Lab Experiment</p></center> \n",
        "   </div>\n",
        "   </div>\n",
        "   </div>\n",
        "   \"\"\"\n",
        "    st.markdown(html_temp,unsafe_allow_html=True)\n",
        "    st.header(\"Customer Segmenation on wholesale data \")\n",
        "    \n",
        "    chanel = st.selectbox(\n",
        "    \"Chanel\",\n",
        "    (\"1\", \"2\")\n",
        "    )\n",
        "    region = st.selectbox(\n",
        "    \"Region\",\n",
        "    (\"1\", \"2\",\"3\")\n",
        "    )\n",
        "    \n",
        "\n",
        "if __name__=='__main__':\n",
        "  main()"
      ],
      "execution_count": null,
      "outputs": [
        {
          "output_type": "stream",
          "text": [
            "Overwriting app.py\n"
          ],
          "name": "stdout"
        }
      ]
    },
    {
      "cell_type": "code",
      "metadata": {
        "colab": {
          "base_uri": "https://localhost:8080/"
        },
        "id": "GwgX1XgMLLCh",
        "outputId": "055cdf3c-8cc2-49f9-da2c-7ba110279610"
      },
      "source": [
        "!nohup streamlit run  app.py &"
      ],
      "execution_count": null,
      "outputs": [
        {
          "output_type": "stream",
          "text": [
            "nohup: appending output to 'nohup.out'\n"
          ],
          "name": "stdout"
        }
      ]
    },
    {
      "cell_type": "code",
      "metadata": {
        "colab": {
          "base_uri": "https://localhost:8080/"
        },
        "id": "Tq3kvD6MLNma",
        "outputId": "28694b48-03e2-40a4-ca38-4cbc8c6cce7c"
      },
      "source": [
        "from pyngrok import ngrok\n",
        "url=ngrok.connect(port='8050')\n",
        "url"
      ],
      "execution_count": null,
      "outputs": [
        {
          "output_type": "execute_result",
          "data": {
            "text/plain": [
              "<NgrokTunnel: \"http://45a735228f74.ngrok.io\" -> \"http://localhost:80\">"
            ]
          },
          "metadata": {
            "tags": []
          },
          "execution_count": 72
        }
      ]
    },
    {
      "cell_type": "code",
      "metadata": {
        "colab": {
          "base_uri": "https://localhost:8080/"
        },
        "id": "kTYigmk1LQLM",
        "outputId": "4c0c7fe1-5996-42fd-cca2-4c1a2f969a71"
      },
      "source": [
        "!streamlit run --server.port 80 app.py"
      ],
      "execution_count": null,
      "outputs": [
        {
          "output_type": "stream",
          "text": [
            "\u001b[0m\n",
            "\u001b[34m\u001b[1m  You can now view your Streamlit app in your browser.\u001b[0m\n",
            "\u001b[0m\n",
            "\u001b[34m  Network URL: \u001b[0m\u001b[1mhttp://172.28.0.2:80\u001b[0m\n",
            "\u001b[34m  External URL: \u001b[0m\u001b[1mhttp://34.73.89.4:80\u001b[0m\n",
            "\u001b[0m\n",
            "cluster number [0]\n",
            "\u001b[34m  Stopping...\u001b[0m\n"
          ],
          "name": "stdout"
        }
      ]
    },
    {
      "cell_type": "code",
      "metadata": {
        "id": "jE3zSLAhLTGh"
      },
      "source": [
        "ngrok.kill()"
      ],
      "execution_count": null,
      "outputs": []
    }
  ]
}